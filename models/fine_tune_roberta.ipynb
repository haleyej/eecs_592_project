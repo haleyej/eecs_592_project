{
 "cells": [
  {
   "cell_type": "code",
   "execution_count": 21,
   "id": "1a281a0f",
   "metadata": {},
   "outputs": [],
   "source": [
    "import os\n",
    "import wandb\n",
    "import numpy as np \n",
    "import pandas as pd\n",
    "from tqdm import tqdm\n",
    "from sklearn.model_selection import train_test_split\n",
    "from transformers import RobertaForMaskedLM, RobertaTokenizerFast, DataCollatorForLanguageModeling, TrainingArguments, Trainer\n",
    "\n",
    "from torch.utils.data import DataLoader, Dataset"
   ]
  },
  {
   "cell_type": "markdown",
   "id": "dc2c2276",
   "metadata": {},
   "source": [
    "Dataset code from Big News paper: \n",
    "* https://github.com/launchnlp/POLITICS/blob/main/src/files/dataset.py"
   ]
  },
  {
   "cell_type": "markdown",
   "id": "19a6e2c8",
   "metadata": {},
   "source": [
    "<h2>Load in Pre-Trained RoBERTa</h2>"
   ]
  },
  {
   "cell_type": "code",
   "execution_count": 2,
   "id": "5a178076",
   "metadata": {},
   "outputs": [],
   "source": [
    "model = RobertaForMaskedLM.from_pretrained(\"roberta-base\")"
   ]
  },
  {
   "cell_type": "code",
   "execution_count": 3,
   "id": "5e071a7b",
   "metadata": {},
   "outputs": [],
   "source": [
    "tokenizer = RobertaTokenizerFast.from_pretrained('roberta-base', do_lower_case = True)"
   ]
  },
  {
   "cell_type": "markdown",
   "id": "a94aa0a0",
   "metadata": {},
   "source": [
    "<h2>Load in Data</h2>"
   ]
  },
  {
   "cell_type": "code",
   "execution_count": 4,
   "id": "9b5edadc",
   "metadata": {},
   "outputs": [],
   "source": [
    "class MediaMLMDataset(Dataset):\n",
    "    def __init__(self, data:list[str], tokenizer, max_len:int = 512):\n",
    "        self.tokenizer = tokenizer\n",
    "        self.max_len = max_len\n",
    "        self.data = data\n",
    "        \n",
    "    \n",
    "    def __getitem__(self, index):\n",
    "        text = self.data[index]\n",
    "        text = text.strip()\n",
    "        \n",
    "        return self.tokenizer(\n",
    "                    text = text, \n",
    "                    padding = True, \n",
    "                    truncation = True, \n",
    "                    max_length = self.max_len, \n",
    "                    return_attention_mask = True, \n",
    "                    add_special_tokens = True,\n",
    "                    return_special_tokens_mask = True,\n",
    "                    return_token_type_ids = False,\n",
    "                    return_offsets_mapping = False)\n",
    "        \n",
    "    \n",
    "    def __len__(self):\n",
    "        return len(self.data)\n",
    "        "
   ]
  },
  {
   "cell_type": "code",
   "execution_count": 13,
   "id": "66924ab2",
   "metadata": {},
   "outputs": [],
   "source": [
    "texts = []\n",
    "files = [f for f in os.listdir(\"../data/partisan_media\") if f.endswith('.txt')]\n",
    "for file in files:\n",
    "    with open(os.path.join('../data/partisan_media', file)) as f:\n",
    "        text = f.readlines()\n",
    "        texts.extend(text)"
   ]
  },
  {
   "cell_type": "code",
   "execution_count": 25,
   "id": "5831892c",
   "metadata": {},
   "outputs": [],
   "source": [
    "train_texts, eval_texts =  train_test_split(texts[:1000])"
   ]
  },
  {
   "cell_type": "code",
   "execution_count": 26,
   "id": "97ff4376",
   "metadata": {},
   "outputs": [],
   "source": [
    "mlm_dataset = MediaMLMDataset(train_texts, tokenizer)\n",
    "eval_dataset = MediaMLMDataset(eval_texts, tokenizer)"
   ]
  },
  {
   "cell_type": "code",
   "execution_count": 27,
   "id": "9fc94a99",
   "metadata": {},
   "outputs": [],
   "source": [
    "data_collator = DataCollatorForLanguageModeling(\n",
    "    tokenizer = tokenizer, \n",
    "    mlm = True, \n",
    "    mlm_probability = 0.15,\n",
    ")"
   ]
  },
  {
   "cell_type": "code",
   "execution_count": 28,
   "id": "a1e111d4",
   "metadata": {},
   "outputs": [],
   "source": [
    "BATCH_SIZE = 8\n",
    "dataloader = DataLoader(mlm_dataset, batch_size = BATCH_SIZE, collate_fn = data_collator)\n",
    "eval_dataloader = DataLoader(eval_dataset, batch_size = BATCH_SIZE, collate_fn = data_collator)"
   ]
  },
  {
   "cell_type": "markdown",
   "id": "5505df99",
   "metadata": {},
   "source": [
    "<h2>Set Up Training</h2>"
   ]
  },
  {
   "cell_type": "code",
   "execution_count": 29,
   "id": "b10b97aa",
   "metadata": {},
   "outputs": [],
   "source": [
    "from transformers import AutoModelForMaskedLM\n",
    "model_checkpoint = \"distilbert-base-uncased\"\n",
    "model = AutoModelForMaskedLM.from_pretrained(model_checkpoint)"
   ]
  },
  {
   "cell_type": "code",
   "execution_count": 30,
   "id": "998169d5",
   "metadata": {},
   "outputs": [],
   "source": [
    "training_args = TrainingArguments(\n",
    "    output_dir = 'roberta_pretraining',\n",
    "    num_train_epochs = 5,\n",
    "    per_device_train_batch_size = 8,\n",
    "    per_device_eval_batch_size = 8,\n",
    "    evaluation_strategy = \"epoch\",\n",
    "    logging_dir = f\"roberta_pretraining/logs\",\n",
    "    logging_strategy = \"steps\",\n",
    "    logging_steps = 10,\n",
    "    learning_rate = 5e-5,\n",
    "    weight_decay = 0.01,\n",
    "    warmup_steps = 500,\n",
    "    save_strategy = \"epoch\",\n",
    "    load_best_model_at_end = True,\n",
    "    save_total_limit = 2\n",
    ")"
   ]
  },
  {
   "cell_type": "code",
   "execution_count": 31,
   "id": "24ae0a87",
   "metadata": {},
   "outputs": [],
   "source": [
    "trainer = Trainer(\n",
    "    model = model,\n",
    "    args = training_args,\n",
    "    train_dataset = mlm_dataset,\n",
    "    eval_dataset = eval_dataset,\n",
    "    data_collator = data_collator,\n",
    "    tokenizer = tokenizer,\n",
    ")"
   ]
  },
  {
   "cell_type": "code",
   "execution_count": null,
   "id": "9cdd0f61",
   "metadata": {},
   "outputs": [
    {
     "data": {
      "text/html": [
       "\n",
       "    <div>\n",
       "      \n",
       "      <progress value='76' max='470' style='width:300px; height:20px; vertical-align: middle;'></progress>\n",
       "      [ 76/470 01:46 < 09:28, 0.69 it/s, Epoch 0.80/5]\n",
       "    </div>\n",
       "    <table border=\"1\" class=\"dataframe\">\n",
       "  <thead>\n",
       " <tr style=\"text-align: left;\">\n",
       "      <th>Epoch</th>\n",
       "      <th>Training Loss</th>\n",
       "      <th>Validation Loss</th>\n",
       "    </tr>\n",
       "  </thead>\n",
       "  <tbody>\n",
       "  </tbody>\n",
       "</table><p>"
      ],
      "text/plain": [
       "<IPython.core.display.HTML object>"
      ]
     },
     "metadata": {},
     "output_type": "display_data"
    }
   ],
   "source": [
    "trainer.train()"
   ]
  },
  {
   "cell_type": "code",
   "execution_count": null,
   "id": "20927085",
   "metadata": {},
   "outputs": [],
   "source": []
  }
 ],
 "metadata": {
  "kernelspec": {
   "display_name": "Python 3 (ipykernel)",
   "language": "python",
   "name": "python3"
  },
  "language_info": {
   "codemirror_mode": {
    "name": "ipython",
    "version": 3
   },
   "file_extension": ".py",
   "mimetype": "text/x-python",
   "name": "python",
   "nbconvert_exporter": "python",
   "pygments_lexer": "ipython3",
   "version": "3.11.5"
  }
 },
 "nbformat": 4,
 "nbformat_minor": 5
}
