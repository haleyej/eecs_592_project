{
 "cells": [
  {
   "cell_type": "code",
   "execution_count": 12,
   "id": "cfddd3fc",
   "metadata": {},
   "outputs": [],
   "source": [
    "import os\n",
    "import zipfile\n",
    "import pandas as pd\n",
    "from transformers import RobertaConfig, RobertaModel"
   ]
  },
  {
   "cell_type": "markdown",
   "id": "05f25f0b",
   "metadata": {},
   "source": [
    "<h2>Load in RoBERTa</h2>"
   ]
  },
  {
   "cell_type": "code",
   "execution_count": 13,
   "id": "58e3cada",
   "metadata": {},
   "outputs": [],
   "source": [
    "configuration = RobertaConfig()"
   ]
  },
  {
   "cell_type": "code",
   "execution_count": 14,
   "id": "76debbc5",
   "metadata": {},
   "outputs": [],
   "source": [
    "model = RobertaModel(configuration)"
   ]
  },
  {
   "cell_type": "code",
   "execution_count": 15,
   "id": "f85fd8d4",
   "metadata": {},
   "outputs": [
    {
     "data": {
      "text/plain": [
       "RobertaConfig {\n",
       "  \"attention_probs_dropout_prob\": 0.1,\n",
       "  \"bos_token_id\": 0,\n",
       "  \"classifier_dropout\": null,\n",
       "  \"eos_token_id\": 2,\n",
       "  \"hidden_act\": \"gelu\",\n",
       "  \"hidden_dropout_prob\": 0.1,\n",
       "  \"hidden_size\": 768,\n",
       "  \"initializer_range\": 0.02,\n",
       "  \"intermediate_size\": 3072,\n",
       "  \"layer_norm_eps\": 1e-12,\n",
       "  \"max_position_embeddings\": 512,\n",
       "  \"model_type\": \"roberta\",\n",
       "  \"num_attention_heads\": 12,\n",
       "  \"num_hidden_layers\": 12,\n",
       "  \"pad_token_id\": 1,\n",
       "  \"position_embedding_type\": \"absolute\",\n",
       "  \"transformers_version\": \"4.32.1\",\n",
       "  \"type_vocab_size\": 2,\n",
       "  \"use_cache\": true,\n",
       "  \"vocab_size\": 50265\n",
       "}"
      ]
     },
     "execution_count": 15,
     "metadata": {},
     "output_type": "execute_result"
    }
   ],
   "source": [
    "model.config"
   ]
  },
  {
   "cell_type": "markdown",
   "id": "620d78ea",
   "metadata": {},
   "source": [
    "<h2>Load in Data</h2>"
   ]
  },
  {
   "cell_type": "code",
   "execution_count": 16,
   "id": "a66138cb",
   "metadata": {},
   "outputs": [
    {
     "data": {
      "text/plain": [
       "['partisan media.zip', '.DS_Store', 'big_news']"
      ]
     },
     "execution_count": 16,
     "metadata": {},
     "output_type": "execute_result"
    }
   ],
   "source": [
    "os.listdir(\"../data\")"
   ]
  },
  {
   "cell_type": "code",
   "execution_count": null,
   "id": "72b5e33c",
   "metadata": {},
   "outputs": [],
   "source": []
  }
 ],
 "metadata": {
  "kernelspec": {
   "display_name": "Python 3 (ipykernel)",
   "language": "python",
   "name": "python3"
  },
  "language_info": {
   "codemirror_mode": {
    "name": "ipython",
    "version": 3
   },
   "file_extension": ".py",
   "mimetype": "text/x-python",
   "name": "python",
   "nbconvert_exporter": "python",
   "pygments_lexer": "ipython3",
   "version": "3.11.5"
  }
 },
 "nbformat": 4,
 "nbformat_minor": 5
}
