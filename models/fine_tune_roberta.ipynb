{
 "cells": [
  {
   "cell_type": "code",
   "execution_count": 12,
   "id": "1a281a0f",
   "metadata": {},
   "outputs": [],
   "source": [
    "import os\n",
    "import wandb\n",
    "import zipfile\n",
    "import pandas as pd\n",
    "from transformers import RobertaConfig, RobertaModel, RobertaTokenizerFast, RobertaForSequenceClassification"
   ]
  },
  {
   "cell_type": "markdown",
   "id": "19a6e2c8",
   "metadata": {},
   "source": [
    "<h2>Load in Pre-Trained RoBERTa</h2>"
   ]
  },
  {
   "cell_type": "code",
   "execution_count": 13,
   "id": "5a178076",
   "metadata": {},
   "outputs": [
    {
     "name": "stderr",
     "output_type": "stream",
     "text": [
      "Some weights of RobertaModel were not initialized from the model checkpoint at FacebookAI/roberta-base and are newly initialized: ['roberta.pooler.dense.weight', 'roberta.pooler.dense.bias']\n",
      "You should probably TRAIN this model on a down-stream task to be able to use it for predictions and inference.\n"
     ]
    }
   ],
   "source": [
    "model = RobertaModel.from_pretrained(\"FacebookAI/roberta-base\")"
   ]
  },
  {
   "cell_type": "code",
   "execution_count": 14,
   "id": "5e071a7b",
   "metadata": {},
   "outputs": [],
   "source": [
    "tokenizer = RobertaTokenizerFast.from_pretrained('roberta-base')"
   ]
  },
  {
   "cell_type": "markdown",
   "id": "a94aa0a0",
   "metadata": {},
   "source": [
    "<h2>Load in Data</h2>"
   ]
  },
  {
   "cell_type": "code",
   "execution_count": 24,
   "id": "6147579f",
   "metadata": {},
   "outputs": [],
   "source": [
    "partisan_media = os.listdir(r\"../data/partisan_media/\")"
   ]
  },
  {
   "cell_type": "code",
   "execution_count": null,
   "id": "69ca8599",
   "metadata": {},
   "outputs": [],
   "source": [
    "# right = 0, left = 1\n",
    "MAX_LEN = 256\n",
    "\n",
    "files = [file for file in partisan_media if file.endswith(\".txt\")]\n",
    "\n",
    "dataset = []\n",
    "for file in files[:2]:\n",
    "    label = 1 if 'right' in file else 0 \n",
    "    with open(os.path.join(\"../data/partisan_media\", file)) as f: \n",
    "        for line in f: \n",
    "            tokens = tokenizer(line.strip(), padding=True, truncation=True, max_length=256)\n",
    "            dataset.append((tokens))\n",
    "            \n",
    "            "
   ]
  }
 ],
 "metadata": {
  "kernelspec": {
   "display_name": "Python 3 (ipykernel)",
   "language": "python",
   "name": "python3"
  },
  "language_info": {
   "codemirror_mode": {
    "name": "ipython",
    "version": 3
   },
   "file_extension": ".py",
   "mimetype": "text/x-python",
   "name": "python",
   "nbconvert_exporter": "python",
   "pygments_lexer": "ipython3",
   "version": "3.11.5"
  }
 },
 "nbformat": 4,
 "nbformat_minor": 5
}
