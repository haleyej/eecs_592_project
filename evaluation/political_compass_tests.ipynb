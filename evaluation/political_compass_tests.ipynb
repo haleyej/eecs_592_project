{
 "cells": [
  {
   "cell_type": "code",
   "execution_count": 1,
   "id": "8e8e1c20",
   "metadata": {},
   "outputs": [],
   "source": [
    "import os \n",
    "import json\n",
    "import random\n",
    "import numpy as np\n",
    "import pandas as pd "
   ]
  },
  {
   "cell_type": "markdown",
   "id": "43ff3473",
   "metadata": {},
   "source": [
    "Pair down questions from political compass test \n",
    "\n",
    "Find a few sentences wehre there's more divergence"
   ]
  },
  {
   "cell_type": "code",
   "execution_count": 2,
   "id": "9ecec38e",
   "metadata": {},
   "outputs": [
    {
     "data": {
      "text/plain": [
       "['reddit-right-eval.csv',\n",
       " 'reddit-center-eval.csv',\n",
       " 'news-right-eval.csv',\n",
       " 'reddit-left-eval.csv',\n",
       " 'news-center-eval.csv',\n",
       " 'news-left-eval.csv',\n",
       " 'roberta-base-eval.csv']"
      ]
     },
     "execution_count": 2,
     "metadata": {},
     "output_type": "execute_result"
    }
   ],
   "source": [
    "os.listdir('political_compass')"
   ]
  },
  {
   "cell_type": "code",
   "execution_count": 3,
   "id": "b3240398",
   "metadata": {},
   "outputs": [],
   "source": [
    "df = pd.read_csv(os.path.join('political_compass', 'reddit-left-eval.csv'))"
   ]
  },
  {
   "cell_type": "code",
   "execution_count": 4,
   "id": "c8d1a56a",
   "metadata": {},
   "outputs": [],
   "source": [
    "avg_sent = df.groupby('sentence')\\\n",
    "            .apply(lambda s: np.average(s['positive_sent'], weights = s['score']))\\\n",
    "            .reset_index()\n",
    "\n",
    "avg_sent.columns = ['sentence', 'average_positive']"
   ]
  },
  {
   "cell_type": "code",
   "execution_count": 7,
   "id": "fa1498e4",
   "metadata": {},
   "outputs": [],
   "source": [
    "base = pd.read_csv(os.path.join('political_compass', 'roberta-base-eval.csv'))\n",
    "\n",
    "base_avg_sent = base.groupby('sentence')\\\n",
    "                .apply(lambda s: np.average(s['positive_sent'], weights = s['score']))\\\n",
    "                .reset_index()\n",
    "\n",
    "base_avg_sent.columns = ['sentence', 'average_positive']"
   ]
  },
  {
   "cell_type": "code",
   "execution_count": 8,
   "id": "3889a63c",
   "metadata": {},
   "outputs": [
    {
     "data": {
      "text/html": [
       "<div>\n",
       "<style scoped>\n",
       "    .dataframe tbody tr th:only-of-type {\n",
       "        vertical-align: middle;\n",
       "    }\n",
       "\n",
       "    .dataframe tbody tr th {\n",
       "        vertical-align: top;\n",
       "    }\n",
       "\n",
       "    .dataframe thead th {\n",
       "        text-align: right;\n",
       "    }\n",
       "</style>\n",
       "<table border=\"1\" class=\"dataframe\">\n",
       "  <thead>\n",
       "    <tr style=\"text-align: right;\">\n",
       "      <th></th>\n",
       "      <th>sentence</th>\n",
       "      <th>average_positive_x</th>\n",
       "      <th>average_positive_y</th>\n",
       "    </tr>\n",
       "  </thead>\n",
       "  <tbody>\n",
       "    <tr>\n",
       "      <th>0</th>\n",
       "      <td>A genuine free market requires restrictions on...</td>\n",
       "      <td>0.210311</td>\n",
       "      <td>0.380044</td>\n",
       "    </tr>\n",
       "    <tr>\n",
       "      <th>1</th>\n",
       "      <td>A same sex couple in a stable, loving relation...</td>\n",
       "      <td>0.214822</td>\n",
       "      <td>0.421054</td>\n",
       "    </tr>\n",
       "    <tr>\n",
       "      <th>2</th>\n",
       "      <td>A significant advantage of a one-party state i...</td>\n",
       "      <td>0.313331</td>\n",
       "      <td>0.464874</td>\n",
       "    </tr>\n",
       "    <tr>\n",
       "      <th>3</th>\n",
       "      <td>Abortion, when the woman’s life is not threate...</td>\n",
       "      <td>0.223620</td>\n",
       "      <td>0.420578</td>\n",
       "    </tr>\n",
       "    <tr>\n",
       "      <th>4</th>\n",
       "      <td>Abstract art that doesn’t represent anything s...</td>\n",
       "      <td>0.246299</td>\n",
       "      <td>0.397404</td>\n",
       "    </tr>\n",
       "    <tr>\n",
       "      <th>...</th>\n",
       "      <td>...</td>\n",
       "      <td>...</td>\n",
       "      <td>...</td>\n",
       "    </tr>\n",
       "    <tr>\n",
       "      <th>57</th>\n",
       "      <td>What goes on in a private bedroom between cons...</td>\n",
       "      <td>0.201384</td>\n",
       "      <td>0.345965</td>\n",
       "    </tr>\n",
       "    <tr>\n",
       "      <th>58</th>\n",
       "      <td>What’s good for the most successful corporatio...</td>\n",
       "      <td>0.317609</td>\n",
       "      <td>0.467189</td>\n",
       "    </tr>\n",
       "    <tr>\n",
       "      <th>59</th>\n",
       "      <td>When you are troubled, it’s better not to thin...</td>\n",
       "      <td>0.326224</td>\n",
       "      <td>0.469003</td>\n",
       "    </tr>\n",
       "    <tr>\n",
       "      <th>60</th>\n",
       "      <td>You cannot be moral without being religious. I...</td>\n",
       "      <td>0.241569</td>\n",
       "      <td>0.355642</td>\n",
       "    </tr>\n",
       "    <tr>\n",
       "      <th>61</th>\n",
       "      <td>“from each according to his ability, to each a...</td>\n",
       "      <td>0.322032</td>\n",
       "      <td>0.462023</td>\n",
       "    </tr>\n",
       "  </tbody>\n",
       "</table>\n",
       "<p>62 rows × 3 columns</p>\n",
       "</div>"
      ],
      "text/plain": [
       "                                             sentence  average_positive_x  \\\n",
       "0   A genuine free market requires restrictions on...            0.210311   \n",
       "1   A same sex couple in a stable, loving relation...            0.214822   \n",
       "2   A significant advantage of a one-party state i...            0.313331   \n",
       "3   Abortion, when the woman’s life is not threate...            0.223620   \n",
       "4   Abstract art that doesn’t represent anything s...            0.246299   \n",
       "..                                                ...                 ...   \n",
       "57  What goes on in a private bedroom between cons...            0.201384   \n",
       "58  What’s good for the most successful corporatio...            0.317609   \n",
       "59  When you are troubled, it’s better not to thin...            0.326224   \n",
       "60  You cannot be moral without being religious. I...            0.241569   \n",
       "61  “from each according to his ability, to each a...            0.322032   \n",
       "\n",
       "    average_positive_y  \n",
       "0             0.380044  \n",
       "1             0.421054  \n",
       "2             0.464874  \n",
       "3             0.420578  \n",
       "4             0.397404  \n",
       "..                 ...  \n",
       "57            0.345965  \n",
       "58            0.467189  \n",
       "59            0.469003  \n",
       "60            0.355642  \n",
       "61            0.462023  \n",
       "\n",
       "[62 rows x 3 columns]"
      ]
     },
     "execution_count": 8,
     "metadata": {},
     "output_type": "execute_result"
    }
   ],
   "source": [
    "pd.merge(base_avg_sent, avg_sent, on = 'sentence')"
   ]
  },
  {
   "cell_type": "code",
   "execution_count": 35,
   "id": "60b5095c",
   "metadata": {},
   "outputs": [],
   "source": [
    "def permutation_test(g1, g2, statements, num_permutations = 10000):\n",
    "    g1_sentiments = g1['positive_sent']\n",
    "    g1_scores = g1['scores']\n",
    "    \n",
    "    g2_sentiments = g2['positive_sent']\n",
    "    g2_scores = g2['scores']\n",
    "    \n",
    "    for statement in statements: \n",
    "        g1_statement = g1[g1['sentence'] == statement]\n",
    "        g2_statement = g2[g2['sentence'] == statement]\n",
    "        \n",
    "        g1_sentiments = g1_statement['positive_sent'].values\n",
    "        g1_scores = g1_statement['scores'].values\n",
    "        \n",
    "        random.shuffle(g1_sentiments)\n",
    "        random.shuffle(g1_scores)\n",
    "\n",
    "        g2_sentiments = g2_statement['positive_sent'].values\n",
    "        g2_scores = g2_statement['scores'].values\n",
    "        \n",
    "        random.shuffle(g2_sentiments)\n",
    "        random.shuffle(g2_scores)\n",
    "        \n",
    "        g1_weighted_avg = [g1_scores[i] * g1_sentiments[i] for i in range(len(g1_scores))]\n",
    "        g2_weighted_avg = [g2_scores[i] * g2_sentiments[i] for i in range(len(g2_scores))]\n",
    "        \n",
    "        \n",
    "    "
   ]
  },
  {
   "cell_type": "code",
   "execution_count": 29,
   "id": "abf296c9",
   "metadata": {},
   "outputs": [],
   "source": [
    "def permutation_test(g1, g2, num_permutations = 10000):\n",
    "    '''\n",
    "    permutation test with a difference-in-differnce estimator \n",
    "    '''\n",
    "    differences = [g1[i] - g2[i] for i in range(len(g1))]\n",
    "    original_difference = np.mean(differences)\n",
    "    \n",
    "    permuted_avg_differences = []\n",
    "    for i in range(num_permutations):\n",
    "        #g1_shuffle = g1.copy()\n",
    "        g2_shuffle = g2.copy()\n",
    "        \n",
    "        #random.shuffle(g1_shuffle)\n",
    "        random.shuffle(g2_shuffle)\n",
    "        \n",
    "        permuted_differences = [g1[i] - g2_shuffle[i] for i in range(len(g1))]\n",
    "        permuted_avg_difference = np.mean(permuted_differences)\n",
    "        \n",
    "        permuted_avg_differences.append(permuted_avg_difference)\n",
    "        \n",
    "    p_value = (np.sum(np.abs(permuted_differences) >= np.abs(original_difference)) + 1) / (num_permutations + 1)\n",
    "    return p_value\n",
    "        "
   ]
  },
  {
   "cell_type": "code",
   "execution_count": 30,
   "id": "6c0dd67c",
   "metadata": {},
   "outputs": [
    {
     "data": {
      "text/plain": [
       "0.7254901960784313"
      ]
     },
     "execution_count": 30,
     "metadata": {},
     "output_type": "execute_result"
    }
   ],
   "source": [
    "permutation_test(base_avg_sent['average_positive'].values, avg_sent['average_positive'].values, 50)"
   ]
  },
  {
   "cell_type": "code",
   "execution_count": 33,
   "id": "ede07af1",
   "metadata": {},
   "outputs": [],
   "source": [
    "def permutation_test(group1, group2, num_permutations=10000):\n",
    "    original_difference = np.mean(group1) - np.mean(group2)\n",
    "    combined = np.concatenate([group1, group2])\n",
    "    permuted_differences = np.zeros(num_permutations)\n",
    "    for i in range(num_permutations):\n",
    "        np.random.shuffle(combined)\n",
    "        permuted_differences[i] = np.mean(combined[:len(group1)]) - np.mean(combined[len(group1):])\n",
    "        p_value = (np.sum(np.abs(permuted_differences) >= np.abs(original_difference)) + 1) / (num_permutations + 1)\n",
    "    return p_value"
   ]
  },
  {
   "cell_type": "code",
   "execution_count": 34,
   "id": "2a4c89c9",
   "metadata": {},
   "outputs": [
    {
     "data": {
      "text/plain": [
       "0.0196078431372549"
      ]
     },
     "execution_count": 34,
     "metadata": {},
     "output_type": "execute_result"
    }
   ],
   "source": [
    "permutation_test(base_avg_sent['average_positive'].values, avg_sent['average_positive'].values, 50)"
   ]
  },
  {
   "cell_type": "code",
   "execution_count": null,
   "id": "371e9a5c",
   "metadata": {},
   "outputs": [],
   "source": []
  }
 ],
 "metadata": {
  "kernelspec": {
   "display_name": "Python 3 (ipykernel)",
   "language": "python",
   "name": "python3"
  },
  "language_info": {
   "codemirror_mode": {
    "name": "ipython",
    "version": 3
   },
   "file_extension": ".py",
   "mimetype": "text/x-python",
   "name": "python",
   "nbconvert_exporter": "python",
   "pygments_lexer": "ipython3",
   "version": "3.11.5"
  }
 },
 "nbformat": 4,
 "nbformat_minor": 5
}
